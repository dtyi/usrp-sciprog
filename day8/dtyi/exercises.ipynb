{
 "cells": [
  {
   "cell_type": "markdown",
   "metadata": {},
   "source": [
    "# Day 8 Exercises"
   ]
  },
  {
   "cell_type": "code",
   "execution_count": 17,
   "metadata": {
    "collapsed": false
   },
   "outputs": [
    {
     "data": {
      "text/plain": [
       "<matplotlib.image.AxesImage at 0x108cdf150>"
      ]
     },
     "execution_count": 17,
     "metadata": {},
     "output_type": "execute_result"
    },
    {
     "data": {
      "image/png": "[encoded data removed]",
      "text/plain": [
       "<matplotlib.figure.Figure at 0x1073e62d0>"
      ]
     },
     "metadata": {},
     "output_type": "display_data"
    }
   ],
   "source": [
    "import numpy as np\n",
    "import astropy.io.fits\n",
    "from matplotlib import pyplot\n",
    "%matplotlib inline\n",
    "\n",
    "# you may have to change the path here in your own copy.\n",
    "fits = astropy.io.fits.open(\"../../data/hsc-image-small.fits\")\n",
    "image = fits[0].data\n",
    "variance = fits[1].data\n",
    "detections = fits[2].data\n",
    "pyplot.imshow(image, origin='lower', interpolation='nearest', cmap=pyplot.cm.gray, vmin=-0.1, vmax=1.0)"
   ]
  },
  {
   "cell_type": "markdown",
   "metadata": {},
   "source": [
    "## 1. Elliptical Gaussians as Models"
   ]
  },
  {
   "cell_type": "markdown",
   "metadata": {},
   "source": [
    "Earlier today we discussed the likelihood for fitting a model $f(n|\\theta)$ to pixel data.  As our model, we'll use the same 2-d Gaussian we used yesterday as a weight function for moments.  Gaussians aren't particularly great models for representing astronomical sources, but they're not terrible, and they have some nice mathematical properties we'll make use of later.\n",
    "\n",
    "In this context, what are the parameters $\\theta$ of the Gaussian model?"
   ]
  },
  {
   "cell_type": "markdown",
   "metadata": {},
   "source": [
    "variance and mean: moments m0, mx, my, mxx, myy, mxy"
   ]
  },
  {
   "cell_type": "markdown",
   "metadata": {},
   "source": [
    "Write a new function that computes the negative log likelihood of the image data in `hsc-image-small.fits` for a Gaussian model, given the model parameters (as function arguments) and the variance image in that same file.  This function should call your function that just draws a Gaussian image from yesterday (which you can paste here, or you can put them into a module and `import` that module here).  For now, don't worry about the fact that the image contains more than one source,"
   ]
  },
  {
   "cell_type": "code",
   "execution_count": 26,
   "metadata": {
    "collapsed": false
   },
   "outputs": [],
   "source": [
    "def make_coordinate_arrays(shape):\n",
    "    \"\"\"\n",
    "    Returns a meshgrid indexing coordinates given in shape.\n",
    "    \"\"\"\n",
    "    dimensions = np.arange(shape[0]),np.arange(shape[1]) #y,x, 267 tall by 263 wide\n",
    "    coord_mesh = np.meshgrid(dimensions[1],dimensions[0]) #x,y\n",
    "    return coord_mesh\n",
    "\n",
    "#image.shape == mesh[1].shape # Returns true\n",
    "#mesh = make_coordinate_arrays(image.shape)\n",
    "\n",
    "def gaussian_image(mesh,moments):\n",
    "    m0,mx,my,mxx,myy,mxy = moments\n",
    "\n",
    "    C = [[mxx,mxy],[mxy,myy]]\n",
    "    Cinv = np.linalg.inv(C)\n",
    "\n",
    "    x,y = mesh[0],mesh[1]\n",
    "    matrix_product = (x-mx)**2*Cinv[0,0] + (y-my)**2*Cinv[1,1] + 2*(x-mx)*(y-my)*Cinv[0,1]\n",
    "\n",
    "    gaussian = np.exp(-1/2*matrix_product)\n",
    "    #gaussian = np.exp(-1./10000*(mesh[0]**2+mesh[1]**2)) # test gaussian of sigma 100\n",
    "    gaussian /= gaussian.sum()\n",
    "    gaussian *= m0\n",
    "    #pyplot.imshow(gaussian, origin='lower', interpolation='nearest',)\n",
    "    return gaussian\n",
    "\n",
    "def neg_log_likelihood_gaussian(image,variance,moments,mask=None):\n",
    "    if mask is None:\n",
    "        mask = np.ones(image.shape)\n",
    "    mesh = make_coordinate_arrays(image.shape)\n",
    "    model = gaussian_image(mesh,moments)\n",
    "    return 0.5*np.sum(mask*(image-model)**2/variance)"
   ]
  },
  {
   "cell_type": "markdown",
   "metadata": {},
   "source": [
    "Use your step-function moments measurements from yesterday (or de-biased weighted moments) to make some educated guesses for the best-fit parameters $\\theta$ for the brightest source (`detection==5`).  Evaluate your likelihood at that $\\theta$, then choose one of the parameters (I recommend $m_x$ or $m_y$), modify it slightly in the neighborhood of your initial guess, and plot how the negative log likelihood changes as a function of that parameter (with all the other parameters held fixed at your initial guess)."
   ]
  },
  {
   "cell_type": "code",
   "execution_count": 28,
   "metadata": {
    "collapsed": false
   },
   "outputs": [
    {
     "name": "stdout",
     "output_type": "stream",
     "text": [
      "[ 4098.88037109   144.74723262   125.75019614    54.91206828   157.01002277\n",
      "    53.11421082]\n"
     ]
    },
    {
     "data": {
      "text/plain": [
       "763827.33357367862"
      ]
     },
     "execution_count": 28,
     "metadata": {},
     "output_type": "execute_result"
    },
    {
     "data": {
      "image/png": "[encoded data removed]",
      "text/plain": [
       "<matplotlib.figure.Figure at 0x108bc0310>"
      ]
     },
     "metadata": {},
     "output_type": "display_data"
    }
   ],
   "source": [
    "def weightedMoments(mesh,image,weight):\n",
    "    \"\"\"\n",
    "    Computes the zeroth, first, and second moments of objects in the image\n",
    "    given a weight image.\n",
    "    \"\"\"\n",
    "    x,y = mesh[0],mesh[1]\n",
    "    \n",
    "    # Zeroth\n",
    "    m0 = np.sum(image*weight)\n",
    "\n",
    "    # First\n",
    "    #x*image*(detections==5).sum()\n",
    "    mx = 1/m0*np.sum(x*image*weight)\n",
    "    my = 1/m0*np.sum(y*image*weight)\n",
    "\n",
    "    # Second\n",
    "    mxx = 1/m0*np.sum((x-mx)**2*image*weight)\n",
    "    myy = 1/m0*np.sum((y-my)**2*image*weight)\n",
    "    mxy = 1/m0*np.sum((x-mx)*(y-my)*image*weight)\n",
    "    return np.array((m0,mx,my,mxx,myy,mxy))\n",
    "\n",
    "momentsU5 = weightedMoments(make_coordinate_arrays(image.shape),image,detections==5)\n",
    "print momentsU5\n",
    "gaussian_img = gaussian_image(make_coordinate_arrays(image.shape),momentsU5)\n",
    "pyplot.imshow(gaussian_img, origin='lower', interpolation='nearest', cmap=pyplot.cm.gray)\n",
    "\n",
    "neg_log_likelihood_gaussian(image,variance,momentsU5,detections==5)"
   ]
  },
  {
   "cell_type": "markdown",
   "metadata": {},
   "source": [
    "## 2. Specialized Least-Squares Fitters"
   ]
  },
  {
   "cell_type": "markdown",
   "metadata": {},
   "source": [
    "Instead of writing our own fitting code today to explore the likelihood space, we'll use an existing one: [`scipy.optimize.leastsq`](http://docs.scipy.org/doc/scipy/reference/generated/scipy.optimize.leastsq.html#scipy.optimize.leastsq).  This is a \"greedy optimizer\": it just tries to find the nearest local minimum in the function you give it as fast as it can.  It also requires the function we want to minimize to have a certain form - a sum of squares - which is exactly what we have.  Because it makes that assumption, it's less generally useful, but it's better at solving these sorts of problems than a more general optimizer, like [`scipy.optimize.minimize`](http://docs.scipy.org/doc/scipy/reference/generated/scipy.optimize.minimize.html#scipy.optimize.minimize).\n",
    "\n",
    "Take a look at the documentation for `scipy.optimize.leastsq`, and write a function of the sort it expects as its `func` argument: this function will do most of the work of computing the likelihood of our Gaussian model, and `scipy.optimize.leastsq` will do the rest."
   ]
  },
  {
   "cell_type": "code",
   "execution_count": 32,
   "metadata": {
    "collapsed": false
   },
   "outputs": [
    {
     "data": {
      "text/plain": [
       "(array([ 3716.2492402 ,   144.84210921,   125.72225552,    72.62512967,\n",
       "          242.02609104,    89.03345483]), 1)"
      ]
     },
     "execution_count": 32,
     "metadata": {},
     "output_type": "execute_result"
    }
   ],
   "source": [
    "import scipy.optimize\n",
    "\n",
    "def testfunc(x):\n",
    "    return x\n",
    "def residuals(moments,image,variance,mask=None):\n",
    "    if mask is None:\n",
    "        mask = np.ones(image.shape)\n",
    "    mesh = make_coordinate_arrays(image.shape)\n",
    "    model = gaussian_image(mesh,moments)\n",
    "    return (mask*(image-model)/np.sqrt(variance)).flatten()\n",
    "\n",
    "\n",
    "scipy.optimize.leastsq(residuals,momentsU5,args=(image,variance,detections==5))"
   ]
  },
  {
   "cell_type": "markdown",
   "metadata": {},
   "source": [
    "Try running the fitter on this problem, using the guesses you got from moments as the initial parameters.  Check that you get the same result from the fitter if you start it off with slightly different initial parameters."
   ]
  },
  {
   "cell_type": "code",
   "execution_count": 33,
   "metadata": {
    "collapsed": false
   },
   "outputs": [
    {
     "data": {
      "text/plain": [
       "(array([ 3716.27222496,   144.84211091,   125.72225664,    72.62619337,\n",
       "          242.03098245,    89.03529564]), 1)"
      ]
     },
     "execution_count": 33,
     "metadata": {},
     "output_type": "execute_result"
    }
   ],
   "source": [
    "scipy.optimize.leastsq(residuals,momentsU5*1.1,args=(image,variance,detections==5))"
   ]
  },
  {
   "cell_type": "markdown",
   "metadata": {},
   "source": [
    "## 3. PSF-Convolved Models"
   ]
  },
  {
   "cell_type": "markdown",
   "metadata": {},
   "source": [
    "The data image we have is related to the true ideal image of the source by convolution with the PSF, so the model parameter we're fitting depend on both the true position and shape of the object *and* the shape of the PSF.  If we want our model parameters to not depend on the PSF the image was observed with, we need our model to represent the true sky, not the data image.\n",
    "\n",
    "To do that, we can do the same thing to the model that the observation process has done to the ideal image: we can convolve it by the PSF.\n",
    "\n",
    "We'll approximate the PSF for this image as another Gaussian with the following moments:"
   ]
  },
  {
   "cell_type": "code",
   "execution_count": null,
   "metadata": {
    "collapsed": false
   },
   "outputs": [],
   "source": [
    "psf_moments = {\"mx\": 0.0, \"my\": 0.0, \"mxx\": 3.9771548941134864, \"myy\": 3.8040164531742597, \"mxy\": -0.21695453484795038}"
   ]
  },
  {
   "cell_type": "markdown",
   "metadata": {},
   "source": [
    "One of the nice features of Gaussian functions is that if you convolve a Gaussian with another Gaussian, the result is another Gaussian with $\\mu=\\mu_1 + \\mu_2$ and $C = C_1 + C_2$ - that is, we just add the means and add the covariance matrices.\n",
    "\n",
    "Modify your code to convolve the Gaussian model by the PSF before creating an image of it or computing its likelihood (just copy the functions and rewrite them here)."
   ]
  },
  {
   "cell_type": "code",
   "execution_count": null,
   "metadata": {
    "collapsed": false
   },
   "outputs": [],
   "source": []
  },
  {
   "cell_type": "markdown",
   "metadata": {},
   "source": [
    "If we were to fit this model, how would we expect the best-fit parameters to change?"
   ]
  },
  {
   "cell_type": "markdown",
   "metadata": {},
   "source": []
  },
  {
   "cell_type": "markdown",
   "metadata": {},
   "source": [
    "Taking that into account, how should we go from the moments measurements to initial parameters to start off our PSF-convolved fit?  What could go wrong with this formula?  Think about what the valid ranges for Gaussian parameters are."
   ]
  },
  {
   "cell_type": "markdown",
   "metadata": {},
   "source": []
  },
  {
   "cell_type": "markdown",
   "metadata": {},
   "source": [
    "## 4. Put it all together."
   ]
  },
  {
   "cell_type": "markdown",
   "metadata": {},
   "source": [
    "Write a function that takes a data image, a detection mask image, and the PSF moments, and then:\n",
    " - Computes step-function moments to guess an initial parameter.\n",
    " - Attempts to correct the initial parameters to account for the PSF, while making sure the parameters remain valid.\n",
    " - Runs `scipy.optimize.leastsq` with the PSF-convolved galaxy model.\n",
    " - Print a message if the fit failed.\n",
    " - Return the best-fit parameter vector."
   ]
  },
  {
   "cell_type": "code",
   "execution_count": null,
   "metadata": {
    "collapsed": false
   },
   "outputs": [],
   "source": []
  },
  {
   "cell_type": "markdown",
   "metadata": {},
   "source": [
    "Write a function that takes the data image and a parameter vector for your Gaussian model and plots three images:\n",
    " - the original data image\n",
    " - the model image\n",
    " - the difference between them\n",
    " \n",
    "Hint: check out [`this matplotlib example`](http://matplotlib.org/examples/pylab_examples/subplot_demo.html) for how to display multiple images at once."
   ]
  },
  {
   "cell_type": "code",
   "execution_count": null,
   "metadata": {
    "collapsed": false
   },
   "outputs": [],
   "source": []
  },
  {
   "cell_type": "markdown",
   "metadata": {},
   "source": [
    "Use these two new functions to fit and display images for each of the three sources in the image."
   ]
  },
  {
   "cell_type": "code",
   "execution_count": null,
   "metadata": {
    "collapsed": false
   },
   "outputs": [],
   "source": []
  }
 ],
 "metadata": {
  "kernelspec": {
   "display_name": "Python 2",
   "language": "python",
   "name": "python2"
  },
  "language_info": {
   "codemirror_mode": {
    "name": "ipython",
    "version": 2
   },
   "file_extension": ".py",
   "mimetype": "text/x-python",
   "name": "python",
   "nbconvert_exporter": "python",
   "pygments_lexer": "ipython2",
   "version": "2.7.9"
  }
 },
 "nbformat": 4,
 "nbformat_minor": 0
}

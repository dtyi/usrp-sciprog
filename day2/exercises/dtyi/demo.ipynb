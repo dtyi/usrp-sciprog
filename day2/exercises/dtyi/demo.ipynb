{
 "cells": [
  {
   "cell_type": "code",
   "execution_count": 36,
   "metadata": {
    "collapsed": false
   },
   "outputs": [
    {
     "name": "stdout",
     "output_type": "stream",
     "text": [
      "4.0        n=100      0.0001 seconds\n",
      "3.6        n=1000     0.0001 seconds\n",
      "2.92       n=10000    0.0003 seconds\n",
      "3.124      n=100000   0.0018 seconds\n",
      "3.1216     n=1000000  0.0178 seconds\n"
     ]
    }
   ],
   "source": [
    "import time\n",
    "import matplotlib as plt\n",
    "import pi_estimate.estimator as es\n",
    "\n",
    "data = []\n",
    "\n",
    "for n in range(0,5):\n",
    "    run = []\n",
    "    run.append(10**(n+2))\n",
    "    \n",
    "    start_time = time.time()\n",
    "    \n",
    "    run.append(es.pi_estimator(10**n).estimate)\n",
    "    run.append((time.time()-start_time))\n",
    "    \n",
    "    data.append(run)\n",
    "    print str(data[n][1]).ljust(10),\n",
    "    print \"n=\"+str(data[n][0]).ljust(8),\n",
    "    print \"%.4f seconds\" %data[n][2]\n",
    "    \n",
    "    \n",
    "\n",
    "plt.\n",
    "#plt.ylabel('n')\n",
    "#plt.xlabel('time')\n",
    "#plt.show()"
   ]
  },
  {
   "cell_type": "code",
   "execution_count": 25,
   "metadata": {
    "collapsed": false
   },
   "outputs": [
    {
     "data": {
      "text/plain": [
       "[0, 1, 2, 3, 4]"
      ]
     },
     "execution_count": 25,
     "metadata": {},
     "output_type": "execute_result"
    }
   ],
   "source": [
    "range(0,5)"
   ]
  },
  {
   "cell_type": "code",
   "execution_count": 28,
   "metadata": {
    "collapsed": false
   },
   "outputs": [],
   "source": [
    "import numpy as np\n",
    "data = np.ndarray((5,3))"
   ]
  },
  {
   "cell_type": "code",
   "execution_count": 29,
   "metadata": {
    "collapsed": false
   },
   "outputs": [
    {
     "data": {
      "text/plain": [
       "array([[  0.00000000e+000,   0.00000000e+000,   4.94065646e-323],\n",
       "       [  0.00000000e+000,   0.00000000e+000,   0.00000000e+000],\n",
       "       [  0.00000000e+000,   0.00000000e+000,   0.00000000e+000],\n",
       "       [  0.00000000e+000,   0.00000000e+000,   0.00000000e+000],\n",
       "       [  2.12199579e-314,   3.42844921e-062,   0.00000000e+000]])"
      ]
     },
     "execution_count": 29,
     "metadata": {},
     "output_type": "execute_result"
    }
   ],
   "source": [
    "data"
   ]
  },
  {
   "cell_type": "code",
   "execution_count": null,
   "metadata": {
    "collapsed": true
   },
   "outputs": [],
   "source": []
  }
 ],
 "metadata": {
  "kernelspec": {
   "display_name": "Python 2",
   "language": "python",
   "name": "python2"
  },
  "language_info": {
   "codemirror_mode": {
    "name": "ipython",
    "version": 2
   },
   "file_extension": ".py",
   "mimetype": "text/x-python",
   "name": "python",
   "nbconvert_exporter": "python",
   "pygments_lexer": "ipython2",
   "version": "2.7.9"
  }
 },
 "nbformat": 4,
 "nbformat_minor": 0
}

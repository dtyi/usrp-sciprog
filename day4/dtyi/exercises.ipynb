{
 "cells": [
  {
   "cell_type": "markdown",
   "metadata": {},
   "source": [
    "# Exercises for Catalogs and Colors"
   ]
  },
  {
   "cell_type": "markdown",
   "metadata": {},
   "source": [
    "## 1. Converting to Magnitudes"
   ]
  },
  {
   "cell_type": "markdown",
   "metadata": {},
   "source": [
    "Write a function that takes a FITS table (a special 1-d `numpy.ndarray`, as we've discussed), a magnitude zeropoint ($m_0$), and a `dict` that maps the name of the filter to the name of a flux column, and returns a `dict` of arrays of magnitudes.  In other words, I should be able to call:"
   ]
  },
  {
   "cell_type": "code",
   "execution_count": 9,
   "metadata": {
    "collapsed": true
   },
   "outputs": [],
   "source": [
    "import astropy.io.fits\n",
    "import numpy as np\n",
    "fits = astropy.io.fits.open(\"../data/HSC_grizy_example.fits\")\n",
    "table = fits[1].data\n",
    "\n",
    "def getMagnitudes(table, magzero, fields):\n",
    "    result = {}\n",
    "    for k,v in fields.items():\n",
    "        #do stuff with k and v\n",
    "        result[k]=-2.5*np.log(table[v])/np.log(10)+magzero\n",
    "    return result\n",
    "\n",
    "def flux2mag(flux, magzero):\n",
    "    return -2.5*np.log10(table[v])+magzero\n"
   ]
  },
  {
   "cell_type": "code",
   "execution_count": 16,
   "metadata": {
    "collapsed": false
   },
   "outputs": [
    {
     "name": "stdout",
     "output_type": "stream",
     "text": [
      "{'i': array([-6.13310204, -1.32697388, -4.94322177, ..., -3.31956597,\n",
      "       -4.02610846,         nan]), 'r': array([-6.3574845 , -1.642651  , -5.23862529, ..., -3.23657913,\n",
      "       -4.89820009, -2.27296011])}\n"
     ]
    },
    {
     "name": "stderr",
     "output_type": "stream",
     "text": [
      "/Users/nmcstaff/anaconda/lib/python2.7/site-packages/IPython/kernel/__main__.py:10: RuntimeWarning: invalid value encountered in log\n"
     ]
    },
    {
     "data": {
      "text/plain": [
       "4972"
      ]
     },
     "execution_count": 16,
     "metadata": {},
     "output_type": "execute_result"
    }
   ],
   "source": [
    "mags = getMagnitudes(table, 1, {\"r\": \"R_FLUX_KRON\", \"i\": \"I_FLUX_KRON\"})\n",
    "print mags\n",
    "len(table)"
   ]
  },
  {
   "cell_type": "markdown",
   "metadata": {},
   "source": [
    "...and be able to say `mags[\"r\"]` to get a `numpy.ndarray` of all the *r* magnitudes."
   ]
  },
  {
   "cell_type": "markdown",
   "metadata": {},
   "source": [
    "## 2. Filtering the catalog"
   ]
  },
  {
   "cell_type": "markdown",
   "metadata": {},
   "source": [
    "Modify your function to only include rows where none of the magnitudes are NaN or infinite.  Some `numpy` functions you may want to look up and use:\n",
    " - `numpy.logical_and`\n",
    " - `numpy.isfinite` (note that this can also help check for NaNs)\n",
    "Make sure each magnitude array your function returns is consistent (i.e. they all include the same rows).  So you can't just exclude the NaN $r$ magnitudes from the $r$ array, while leaving them in the $i$ array."
   ]
  },
  {
   "cell_type": "code",
   "execution_count": 54,
   "metadata": {
    "collapsed": false
   },
   "outputs": [],
   "source": [
    "def getFilteredMagnitudes(table, magzero, fields):\n",
    "    # Mask out rows with Nan entries from table\n",
    "    mask = np.ones(len(table), dtype=bool)\n",
    "    for v in fields.values():\n",
    "        #submask = np.logical_and(np.isfinite(table[v]),table[v]>0)\n",
    "        submask = np.isfinite(table[v])\n",
    "        np.logical_and(submask,mask, out=mask)\n",
    "    table = table[mask]\n",
    "    \n",
    "    # Mask out rows with negative fluxes\n",
    "    # This is done after removing Nans so > doesn't encounter invalid values.\n",
    "    mask = np.ones(len(table), dtype=bool)\n",
    "    for v in fields.values():\n",
    "        submask = table[v]>0\n",
    "        np.logical_and(submask,mask, out=mask)\n",
    "    table = table[mask]\n",
    "    \n",
    "    # Map fluxes to magnitudes according to requested fields\n",
    "    result = {}\n",
    "    for k,v in fields.items():\n",
    "        result[k]=-2.5*np.log(table[v])/np.log(10)+magzero\n",
    "        #submask = np.logical_not(np.isnan(table[k]))\n",
    "    \n",
    "    \n",
    "    # The following secound-round cleaning is redundant with cleaning negative values, seen above\n",
    "    #########\n",
    "    #Make another mask; false for any row containing Nan \n",
    "    #mask = np.ones(len(result.values()[0]), dtype=bool)\n",
    "    #for k in fields: # Let's figure out a way to mess with the arrays in place, vs to copy over\n",
    "    #    submask = np.logical_not(np.isnan(result[k]))\n",
    "    #    np.logical_and(submask,mask, out=mask)\n",
    "    \n",
    "    # Use the complete mask to clean each array in the dict\n",
    "    #cleanmags = {}\n",
    "    #for k in fields:\n",
    "    #    result[k] = result[k][mask]\n",
    "    \n",
    "    \n",
    "    return result"
   ]
  },
  {
   "cell_type": "code",
   "execution_count": 55,
   "metadata": {
    "collapsed": false
   },
   "outputs": [
    {
     "name": "stdout",
     "output_type": "stream",
     "text": [
      "{'i': array([-6.13310204, -1.32697388, -4.94322177, ..., -3.38842112,\n",
      "       -3.31956597, -4.02610846]), 'r': array([-6.3574845 , -1.642651  , -5.23862529, ..., -3.86191174,\n",
      "       -3.23657913, -4.89820009])}\n"
     ]
    }
   ],
   "source": [
    "mags = getFilteredMagnitudes(table, 1, {\"r\": \"R_FLUX_KRON\", \"i\": \"I_FLUX_KRON\"})\n",
    "print mags\n"
   ]
  },
  {
   "cell_type": "code",
   "execution_count": 59,
   "metadata": {
    "collapsed": false
   },
   "outputs": [
    {
     "name": "stdout",
     "output_type": "stream",
     "text": [
      "[ 713.24841364    8.52686827  238.3903694  ...,   53.43507061  102.43382339\n",
      "   -3.36995924]\n",
      "It's negative fluxes!\n",
      "How does a measurement mechanism even end up with negative values for flux!?\n",
      "In what sane world are such values allowed to be recorded in the catalogue!?\n"
     ]
    }
   ],
   "source": [
    "# What fluxes are giving me Nan's in the logarithm?\n",
    "print table['I_FLUX_KRON']\n",
    "print \"\"\"It's negative fluxes!\n",
    "How does a measurement mechanism even end up with negative values for flux!?\n",
    "In what sane world are such values allowed to be recorded in the catalogue!?\"\"\""
   ]
  },
  {
   "cell_type": "markdown",
   "metadata": {},
   "source": [
    "## 3. A Color-Color Plot"
   ]
  },
  {
   "cell_type": "markdown",
   "metadata": {},
   "source": [
    "Make a plot of $g-r$ vs $i-z$, using your function to extract magnitudes from the catalog.  Use `27.0` for the magnitude zeropoint, and the `KRON` fluxes in the catalog."
   ]
  },
  {
   "cell_type": "code",
   "execution_count": null,
   "metadata": {
    "collapsed": true
   },
   "outputs": [],
   "source": [
    "import matplotlib.pyplot as plt\n"
   ]
  },
  {
   "cell_type": "markdown",
   "metadata": {},
   "source": [
    "## 4. A Color-Magnitude Plot"
   ]
  },
  {
   "cell_type": "markdown",
   "metadata": {},
   "source": [
    "Make a plot of $r$ vs $g-r$.  This time use `PSF` fluxes from the catalog, again with `magzero=27.0`."
   ]
  },
  {
   "cell_type": "markdown",
   "metadata": {},
   "source": [
    "## 5. High-Dimensional Plotting"
   ]
  },
  {
   "cell_type": "markdown",
   "metadata": {},
   "source": [
    "We have 5 different filters, so we'd really like to plot a 5-dimensional space.  Since the magnitudes are relatively similar for a single object, we're best off plotting one magnitude against four colors.\n",
    "\n",
    "Of course, a single scatter plot can only plot two dimensions at once, so we'll have to be creative to visualize them all at once.  Some things we could consider:\n",
    " - Using different colors or different markers for different axes.\n",
    " - A grid of scatter plots, where each row has the same y-axis and each column has the same x-axis.\n",
    " - 3-d plots.\n",
    " \n",
    "Matplotlib can do all of these, and you can find lots of examples to start from here: http://matplotlib.org/gallery.html\n",
    "\n",
    "Do some experimentation (or some educated guessing) and try to find a plot (or set of related plots) that lets you see the most structure in our 5-dimensional space - imagine that we're trying to identify different populations of objects based on their magnitudes in different filters.  You don't have to try all of the kinds of plots above, and you don't even have to use all of the magnitudes - if you can make a case that most of the information in one magnitude (or color) is redundant with another one that you are including (so ideally, if you choose not to include one magnitude in your favorite plots, you should have another plot that shows why you think it's not very helpful)."
   ]
  }
 ],
 "metadata": {
  "kernelspec": {
   "display_name": "Python 2",
   "language": "python",
   "name": "python2"
  },
  "language_info": {
   "codemirror_mode": {
    "name": "ipython",
    "version": 2
   },
   "file_extension": ".py",
   "mimetype": "text/x-python",
   "name": "python",
   "nbconvert_exporter": "python",
   "pygments_lexer": "ipython2",
   "version": "2.7.9"
  }
 },
 "nbformat": 4,
 "nbformat_minor": 0
}
